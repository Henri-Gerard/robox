{
 "cells": [
  {
   "cell_type": "markdown",
   "metadata": {
    "toc": true
   },
   "source": [
    "<h1>Table of Contents<span class=\"tocSkip\"></span></h1>\n",
    "<div class=\"toc\"><ul class=\"toc-item\"></ul></div>"
   ]
  },
  {
   "cell_type": "code",
   "execution_count": 19,
   "metadata": {},
   "outputs": [
    {
     "data": {
      "text/plain": [
       "subgradient (generic function with 1 method)"
      ]
     },
     "execution_count": 19,
     "metadata": {},
     "output_type": "execute_result"
    }
   ],
   "source": [
    "using PyPlot\n",
    "using JuMP\n",
    "using Ipopt\n",
    "\n",
    "include(\"projection.jl\")\n",
    "include(\"ipsolve.jl\")\n",
    "include(\"function.jl\")"
   ]
  },
  {
   "cell_type": "code",
   "execution_count": 20,
   "metadata": {},
   "outputs": [
    {
     "data": {
      "text/plain": [
       "fname_tabu (generic function with 1 method)"
      ]
     },
     "execution_count": 20,
     "metadata": {},
     "output_type": "execute_result"
    }
   ],
   "source": [
    "function initialize(n, Z)\n",
    "    lt = size(Z)[2]-1\n",
    "    d1 = [ϵ; 1; zeros(1:lt); ones(n)/n]\n",
    "#     d2 = [-0.1; 1; zeros(1:lt); -ones(N)/N]\n",
    "\n",
    "    x0 = rand(size(Z)[2]-1+n+2)\n",
    "    I0 = collect(1:size(Z)[1]+1)\n",
    "#     fname_tabu = vcat(repmat([\"KLconstraint\"],n),[\"posit\"])\n",
    "    \n",
    "    x0[2] = maximum([error_loss(x0[3:3+lt-1],Z[i,:]) for i in 1:length(I0)-1])\n",
    "    \n",
    "    return I0, x0, d1\n",
    "end\n",
    "\n",
    "function fname_tabu(i)\n",
    "    if i == N+1 \n",
    "        return \"posit\"\n",
    "    else\n",
    "        return \"KLconstraint\"\n",
    "    end\n",
    "end"
   ]
  },
  {
   "cell_type": "code",
   "execution_count": 21,
   "metadata": {
    "collapsed": true
   },
   "outputs": [],
   "source": [
    "# srand(3)\n",
    "\n",
    "N = 100\n",
    "ϵ = 0.2\n",
    "\n",
    "# a = 0.0\n",
    "# b = 0.5\n",
    "a = 1*rand()-0.5\n",
    "b = 1*rand()-0.5\n",
    "w = 2*rand(N)-1\n",
    "X = collect(linspace(0,10,N))\n",
    "Y = a+b*X+w;\n",
    "\n",
    "Z = vcat(hcat(ones(length(X)),X,Y),zeros(3)');\n",
    "\n",
    "const ITER_MAX = 100000\n",
    "const precision = 0.001\n",
    "const seed = 30\n",
    "const itmax = 1000\n",
    "const α = 0.01\n",
    "const stability = 0.001\n",
    "\n",
    "lt = size(Z)[2]-1\n",
    "d1 = [ϵ; zeros(1:lt); ones(N)/N]\n",
    "\n",
    "# x0 = ones(size(d1))\n",
    "\n",
    "I0= collect(1:N^2+1)\n",
    "# fname_tabu = vcat(repmat([\"DROconstraint\"],N^2),[\"posit\"]);"
   ]
  },
  {
   "cell_type": "code",
   "execution_count": 22,
   "metadata": {
    "collapsed": true
   },
   "outputs": [],
   "source": [
    "Z = vcat(hcat(ones(length(X)),X,Y),zeros(3)');\n",
    "lt = size(Z)[2]-1\n",
    "d1 = [ϵ; 1; zeros(1:lt); ones(N)/N]\n",
    "# d2 = [-0.1; 1; zeros(1:lt); -ones(N)/N]\n",
    "\n",
    "x0 = rand(size(Z)[2]-1+N+2)\n",
    "I0 = collect(1:size(Z)[1])\n",
    "ω = ones(length(I0))/(length(I0))\n",
    "# fname_tabu = vcat(repmat([\"KLconstraint\"],N),[\"posit\"]);"
   ]
  },
  {
   "cell_type": "code",
   "execution_count": 23,
   "metadata": {
    "scrolled": false
   },
   "outputs": [
    {
     "name": "stdout",
     "output_type": "stream",
     "text": [
      "theta = [0.104201, 0.276053]\n",
      "lambda = 0.4984125116973757\n",
      "mu = 0.44409980147125633\n",
      "s = [-0.285764, 0.511372, -0.118162, -0.0749687, 0.112554, -0.048615, 0.616749, -0.282776, 0.773195, -0.176249, -0.276832, -0.293938, -0.202057, -0.0817373, -0.289973, 0.262608, -0.291034, -0.0704992, -0.289258, 0.245236, 0.543831, -0.131146, -0.293241, -0.0352089, -0.16791, -0.284585, 0.331923, 0.773363, 0.399829, 0.164084, -0.123967, -0.289665, -0.293729, -0.222838, 0.427016, -0.287714, 0.106461, -0.248221, -0.247531, 0.0270145, 1.01526, -0.261587, -0.208424, 0.192711, -0.249557, -0.292575, 0.116716, 0.0427618, -0.199504, -0.0454638, -0.270073, -0.173212, -0.0224149, -0.289642, 1.07575, -0.255556, 0.0403866, -0.292381, -0.228078, -0.289706, 0.312195, -0.260586, -0.273865, 0.095547, 0.211371, 0.223798, 0.386438, 0.421439, -0.292197, 0.0645377, -0.28641, -0.21302, 0.83307, -0.244471, -0.286679, -0.240207, -0.265339, -0.196696, 0.431501, -0.292601, 0.030878, 0.593946, 0.0556089, 0.176794, -0.246347, -0.207731, 0.420383, 0.00666123, -0.183777, -0.259788, 0.846184, -0.227437, 0.223527, -0.0990828, 0.107242, -0.237098, -0.293278, -0.241922, 0.402627, -0.288245]\n"
     ]
    },
    {
     "data": {
      "text/plain": [
       "2-element Array{Float64,1}:\n",
       " 0.119409\n",
       " 0.281858"
      ]
     },
     "execution_count": 23,
     "metadata": {},
     "output_type": "execute_result"
    }
   ],
   "source": [
    "theKL = KL_opt(X, Y, ϵ, N)\n",
    "thebis = normal_opt(X, Y, N)"
   ]
  },
  {
   "cell_type": "code",
   "execution_count": 41,
   "metadata": {},
   "outputs": [
    {
     "data": {
      "text/plain": [
       "([1, 2, 3, 4, 5, 6, 7, 8, 9, 10  …  92, 93, 94, 95, 96, 97, 98, 99, 100, 101], [0.241052, 8.17184, 0.676446, 0.0163187, 0.984386, 0.590221, 0.494957, 0.874403, 0.193392, 0.600782  …  0.840317, 0.977522, 0.748547, 0.9519, 0.0797121, 0.0792536, 0.374387, 0.160635, 0.709013, 0.503466], [0.2, 1.0, 0.0, 0.0, 0.01, 0.01, 0.01, 0.01, 0.01, 0.01  …  0.01, 0.01, 0.01, 0.01, 0.01, 0.01, 0.01, 0.01, 0.01, 0.01])"
      ]
     },
     "execution_count": 41,
     "metadata": {},
     "output_type": "execute_result"
    }
   ],
   "source": [
    "I0, x0, d1 = initialize(N, Z)"
   ]
  },
  {
   "cell_type": "code",
   "execution_count": 46,
   "metadata": {},
   "outputs": [
    {
     "name": "stdout",
     "output_type": "stream",
     "text": [
      "1 2 3 4 5 6 7 8 9 10 11 12 13 14 15 16 17 18 19 20 21 22 23 24 25 26 27 28 29 30 31 32 33 34 35 36 37 38 39 40 41 42 43 44 45 46 47 48 49 50 51 52 53 54 55 56 57 58 use equivalent\n",
      "use equivalent\n",
      "use equivalent\n",
      "use equivalent\n",
      "use equivalent\n",
      "59 use equivalent\n",
      "60 use equivalent\n",
      "use equivalent\n",
      "61 62 63 64 65 66 67 68 69 70 71 72 73 74 75 76 77 78 79 80 81 82 83 84 85 86 87 88 89 90 91 92 93 94 95 Exit after 95 iterations\n",
      "  0.211231 seconds (3.00 M allocations: 263.867 MiB, 15.03% gc time)\n"
     ]
    },
    {
     "data": {
      "text/plain": [
       "104-element Array{Float64,1}:\n",
       "  0.579399 \n",
       "  0.430968 \n",
       "  0.12587  \n",
       "  0.2689   \n",
       "  0.879466 \n",
       "  0.498686 \n",
       "  0.390457 \n",
       "  0.769493 \n",
       "  0.171811 \n",
       "  0.496282 \n",
       "  0.852574 \n",
       "  0.365385 \n",
       "  0.884969 \n",
       "  ⋮        \n",
       "  0.838946 \n",
       "  0.760532 \n",
       "  0.741604 \n",
       "  0.873456 \n",
       "  0.644087 \n",
       "  0.84698  \n",
       "  7.4377e-5\n",
       " -0.0250722\n",
       "  0.269935 \n",
       "  0.0562787\n",
       "  0.604693 \n",
       "  0.398988 "
      ]
     },
     "execution_count": 46,
     "metadata": {},
     "output_type": "execute_result"
    }
   ],
   "source": [
    "# x0 = rand(size(d1))\n",
    "# srand(10)\n",
    "\n",
    "# println(x0)\n",
    "@time xlin = run_algo(x0, 1500, d1, fname_tabu, I0, 10000, precision, Int(round(sqrt(N))), 0.11, stability)"
   ]
  },
  {
   "cell_type": "code",
   "execution_count": 47,
   "metadata": {},
   "outputs": [
    {
     "data": {
      "image/png": "[encoded data removed]",
      "text/plain": [
       "PyPlot.Figure(PyObject <matplotlib.figure.Figure object at 0x7f06bf5ef1d0>)"
      ]
     },
     "metadata": {},
     "output_type": "display_data"
    },
    {
     "data": {
      "text/plain": [
       "1-element Array{PyCall.PyObject,1}:\n",
       " PyObject <matplotlib.lines.Line2D object at 0x7f06bf5aa630>"
      ]
     },
     "execution_count": 47,
     "metadata": {},
     "output_type": "execute_result"
    }
   ],
   "source": [
    "plot(X, Y, \"o\")\n",
    "plot(X, theKL[1]+theKL[2]*X, \"orange\")\n",
    "plot(X, xlin[3]+xlin[4]*X, \"red\")\n",
    "# plot(X, thebis[1]+thebis[2]*X, \"black\")\n",
    "# plot(X, a+b*X, \"green\")"
   ]
  },
  {
   "cell_type": "code",
   "execution_count": null,
   "metadata": {
    "collapsed": true
   },
   "outputs": [],
   "source": []
  },
  {
   "cell_type": "code",
   "execution_count": null,
   "metadata": {
    "collapsed": true
   },
   "outputs": [],
   "source": []
  }
 ],
 "metadata": {
  "kernelspec": {
   "display_name": "Julia 0.6.4",
   "language": "julia",
   "name": "julia-0.6"
  },
  "language_info": {
   "file_extension": ".jl",
   "mimetype": "application/julia",
   "name": "julia",
   "version": "0.6.4"
  },
  "latex_envs": {
   "LaTeX_envs_menu_present": true,
   "autoclose": false,
   "autocomplete": false,
   "bibliofile": "biblio.bib",
   "cite_by": "apalike",
   "current_citInitial": 1,
   "eqLabelWithNumbers": true,
   "eqNumInitial": 1,
   "hotkeys": {
    "equation": "Ctrl-E",
    "itemize": "Ctrl-I"
   },
   "labels_anchors": false,
   "latex_user_defs": false,
   "report_style_numbering": false,
   "user_envs_cfg": true
  },
  "toc": {
   "base_numbering": 1,
   "nav_menu": {},
   "number_sections": true,
   "sideBar": true,
   "skip_h1_title": true,
   "title_cell": "Table of Contents",
   "title_sidebar": "Contents",
   "toc_cell": true,
   "toc_position": {},
   "toc_section_display": "block",
   "toc_window_display": false
  }
 },
 "nbformat": 4,
 "nbformat_minor": 2
}
