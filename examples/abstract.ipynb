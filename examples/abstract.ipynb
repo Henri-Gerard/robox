{
 "cells": [
  {
   "cell_type": "markdown",
   "metadata": {
    "toc": true
   },
   "source": [
    "<h1>Table of Contents<span class=\"tocSkip\"></span></h1>\n",
    "<div class=\"toc\"><ul class=\"toc-item\"></ul></div>"
   ]
  },
  {
   "cell_type": "code",
   "execution_count": 1,
   "metadata": {},
   "outputs": [
    {
     "data": {
      "text/plain": [
       "8-element Array{Int64,1}:\n",
       " 2\n",
       " 3\n",
       " 4\n",
       " 5\n",
       " 6\n",
       " 7\n",
       " 8\n",
       " 9"
      ]
     },
     "execution_count": 1,
     "metadata": {},
     "output_type": "execute_result"
    }
   ],
   "source": [
    "addprocs()"
   ]
  },
  {
   "cell_type": "code",
   "execution_count": 2,
   "metadata": {
    "collapsed": true
   },
   "outputs": [],
   "source": [
    "push!(LOAD_PATH, \".\")\n",
    "@everywhere using RobustOptimization"
   ]
  },
  {
   "cell_type": "code",
   "execution_count": 5,
   "metadata": {
    "collapsed": true
   },
   "outputs": [],
   "source": [
    "ambiguity = \"wasserstein\"\n",
    "\n",
    "N = 62\n",
    "M = 2000\n",
    "ϵ = 0.02\n",
    "\n",
    "A = rand(N,M)\n",
    "w = 2*rand(N)-1\n",
    "X = rand(M)\n",
    "D = A*X\n",
    "Y = D+w;\n",
    "Z = hcat(A,Y);"
   ]
  },
  {
   "cell_type": "code",
   "execution_count": 6,
   "metadata": {
    "collapsed": true
   },
   "outputs": [],
   "source": [
    "if ambiguity == \"wasserstein\"\n",
    "    sample = 100\n",
    "else\n",
    "    sample = 100\n",
    "end \n",
    "\n",
    "robustModel = RobustModel(N, M, ϵ, ambiguity, LinearRegression())\n",
    "α = 1/norm(robustModel.descent_direction)\n",
    "# α = 0.1\n",
    "projParams = ProjParams(Int(1e6), 1e-5, sample, para_proj=Sequential(), para_inter=Sequential())\n",
    "optParams = OptParams(Int(3000), 1e-6, α, verbosity=10);\n",
    "\n",
    "x0 = rand(size(robustModel.descent_direction));"
   ]
  },
  {
   "cell_type": "code",
   "execution_count": 7,
   "metadata": {},
   "outputs": [
    {
     "data": {
      "text/plain": [
       "60"
      ]
     },
     "execution_count": 7,
     "metadata": {},
     "output_type": "execute_result"
    }
   ],
   "source": [
    "toto = 60"
   ]
  },
  {
   "cell_type": "code",
   "execution_count": 16,
   "metadata": {},
   "outputs": [
    {
     "data": {
      "text/plain": [
       "RobustOptimization.ProjParams(70, 1.0e-5, 60, RobustOptimization.Sequential(), RobustOptimization.Sequential())"
      ]
     },
     "execution_count": 16,
     "metadata": {},
     "output_type": "execute_result"
    }
   ],
   "source": [
    "robustModel = RobustModel(N, M, ϵ, ambiguity, LinearRegression())\n",
    "projParams = ProjParams(Int(70), 1e-5, toto, para_proj=Sequential(), para_inter=Sequential())"
   ]
  },
  {
   "cell_type": "code",
   "execution_count": 17,
   "metadata": {},
   "outputs": [
    {
     "name": "stdout",
     "output_type": "stream",
     "text": [
      " 31.735156 seconds (108.50 k allocations: 222.697 MiB, 0.07% gc time)\n"
     ]
    },
    {
     "data": {
      "text/plain": [
       "([0.617061, 0.0772392, 0.93016, 0.0859882, 0.915367, 0.0236865, 0.0741329, 0.398724, 0.896082, 0.339468  …  0.6434, 0.669016, 0.360005, 0.927408, 0.520115, 0.191397, 0.569706, 0.272882, 0.426261, 0.812725], 0.0, 68)"
      ]
     },
     "execution_count": 17,
     "metadata": {},
     "output_type": "execute_result"
    }
   ],
   "source": [
    "srand(2)\n",
    "@time algo_proj_bis(x0, Z, robustModel, projParams)"
   ]
  },
  {
   "cell_type": "code",
   "execution_count": 14,
   "metadata": {},
   "outputs": [
    {
     "name": "stdout",
     "output_type": "stream",
     "text": [
      " 29.991655 seconds (291.74 k allocations: 232.655 MiB, 0.08% gc time)\n",
      "0.0"
     ]
    }
   ],
   "source": [
    "srand(2)\n",
    "@time x,d = alg(x0, Z, robustModel, projParams)\n",
    "print(d)"
   ]
  },
  {
   "cell_type": "code",
   "execution_count": 18,
   "metadata": {},
   "outputs": [
    {
     "name": "stdout",
     "output_type": "stream",
     "text": [
      " 61.880163 seconds (24.84 M allocations: 248.237 GiB, 18.76% gc time)\n"
     ]
    },
    {
     "data": {
      "text/plain": [
       "([0.617061, 0.0772392, 0.93016, 0.0859882, 0.915367, 0.0236865, 0.0741329, 0.398724, 0.896082, 0.339468  …  0.6434, 0.669016, 0.360005, 0.927408, 0.520115, 0.191397, 0.569706, 0.272882, 0.426261, 0.812725], 0.0, 68)"
      ]
     },
     "execution_count": 18,
     "metadata": {},
     "output_type": "execute_result"
    }
   ],
   "source": [
    "srand(2)\n",
    "@time algo_proj(x0, Z, robustModel, projParams)"
   ]
  },
  {
   "cell_type": "code",
   "execution_count": 15,
   "metadata": {},
   "outputs": [
    {
     "name": "stdout",
     "output_type": "stream",
     "text": [
      " 33.708494 seconds (21.35 k allocations: 1.848 MiB)\n",
      "0.0011247707375904173"
     ]
    }
   ],
   "source": [
    "srand(2)\n",
    "@time x,d = alg_tot(x0, Z, robustModel, projParams)\n",
    "print(d)"
   ]
  },
  {
   "cell_type": "code",
   "execution_count": null,
   "metadata": {
    "collapsed": true
   },
   "outputs": [],
   "source": []
  },
  {
   "cell_type": "code",
   "execution_count": null,
   "metadata": {
    "collapsed": true
   },
   "outputs": [],
   "source": []
  },
  {
   "cell_type": "code",
   "execution_count": null,
   "metadata": {
    "collapsed": true
   },
   "outputs": [],
   "source": []
  },
  {
   "cell_type": "code",
   "execution_count": null,
   "metadata": {
    "collapsed": true
   },
   "outputs": [],
   "source": []
  },
  {
   "cell_type": "code",
   "execution_count": 13,
   "metadata": {},
   "outputs": [
    {
     "data": {
      "text/plain": [
       "alg_tot (generic function with 1 method)"
      ]
     },
     "execution_count": 13,
     "metadata": {},
     "output_type": "execute_result"
    }
   ],
   "source": [
    "@everywhere function ter_proj(I::Array{Int,1},\n",
    "                    xn::Array{Float64,1},\n",
    "                    data::Array{Float64,2},\n",
    "                    robustModel::RobustModel,\n",
    "                    ω::Float64)\n",
    "    tab = zeros(length(xn)+2)\n",
    "    for k in 1:length(I)\n",
    "        i = I[k]\n",
    "        name = typeof_constraint(i, robustModel)\n",
    "        subg = subgradient(xn, data, robustModel.regressionModel, i, name)\n",
    "        pin = proj_pi(x->fconstraint(x, data, robustModel.regressionModel, i, name), subg, xn, i, data, robustModel.regressionModel)\n",
    "        aux = max(0, fconstraint(xn, data, robustModel.regressionModel, i, name))\n",
    "        tab = tab + vcat(ω*pin, ω*dot((pin-xn),(pin-xn)), aux)\n",
    "    end\n",
    "    return tab \n",
    "end\n",
    "\n",
    "function alg(x0::Array{Float64,1},\n",
    "                    data::Array{Float64,2},\n",
    "                    robustModel::RobustModel,\n",
    "                    projParams::ProjParams)\n",
    "\n",
    "    dist_mem::Float64 = projParams.precision+1\n",
    "    xn::Array{Float64,1} = copy(x0)\n",
    "    iter::Int = 0\n",
    "    while (iter < Int(round(length(robustModel.I0)/projParams.sample))+1) || ((dist_mem > projParams.precision) && (iter < projParams.ITER_MAX))\n",
    "#         println(\"iter = \", iter, \" dm = \", dist_mem)\n",
    "        iter = iter +1\n",
    "        I = StatsBase.sample(robustModel.I0, projParams.sample, replace=false, ordered=true)\n",
    "        push!(I, length(robustModel.I0)+1)\n",
    "        ω = 1/(length(I))\n",
    "        im, IM = dispatch_index(length(I),nworkers())\n",
    "        res = @parallel (+) for k in 1:nworkers()\n",
    "            ter_proj(I[im[k]:IM[k]], xn, data,robustModel,ω)\n",
    "        end\n",
    "#         res::Array{Float64,1} = @parallel (+) for k in 1:length(I)\n",
    "#             aux_proj(I[k], xn, data, robustModel, ω[k])\n",
    "#         end\n",
    "        dist_mem = res[end]/length(I)\n",
    "        un::Array{Float64,1} = xn-res[1:end-2]\n",
    "        Ln::Float64 = res[end-1]/(un'*un)\n",
    "        if (dist_mem <= 0.0) || (dot(un,un) == 0)\n",
    "            Ln = 1\n",
    "            # dist_mem = (xn1-xn)'*(xn1-xn)\n",
    "            I = StatsBase.sample(robustModel.I0, projParams.sample, replace=false, ordered=true)\n",
    "            dist_mem = x_in_inter(xn, data, robustModel, I, projParams.para_inter)\n",
    "        end\n",
    "        xn = QR(x0,xn,xn - Ln*un)\n",
    "    end\n",
    "    return xn, dist_mem, iter\n",
    "end\n",
    "\n",
    "@everywhere function qua_proj(I::UnitRange{Int},\n",
    "                    xn::Array{Float64,1},\n",
    "                    data::Array{Float64,2},\n",
    "                    robustModel::RobustModel,\n",
    "                    ω::Float64)\n",
    "    \n",
    "    tab = zeros(length(xn)+2)\n",
    "    for i in I\n",
    "        name = typeof_constraint(i, robustModel)\n",
    "        subg = subgradient(xn, data, robustModel.regressionModel, i, name)\n",
    "        pin = proj_pi(x->fconstraint(x, data, robustModel.regressionModel, i, name), subg, xn, i, data, robustModel.regressionModel)\n",
    "        aux = max(0, fconstraint(xn, data, robustModel.regressionModel, i, name))\n",
    "        tab = tab + vcat(ω*pin, ω*dot((pin-xn),(pin-xn)), ω*aux)\n",
    "    end\n",
    "    return tab \n",
    "end\n",
    "\n",
    "function alg_tot(x0::Array{Float64,1},\n",
    "                    data::Array{Float64,2},\n",
    "                    robustModel::RobustModel,\n",
    "                    projParams::ProjParams)\n",
    "\n",
    "    xn::Array{Float64,1} = copy(x0)\n",
    "    im, IM = dispatch_index(length(robustModel.I0)+1,nworkers())\n",
    "    I = 1:(length(robustModel.I0)+1)\n",
    "    res = @parallel (+) for k in 1:nworkers()\n",
    "        qua_proj(I[im[k]:IM[k]], xn, data,robustModel,1/length(I))\n",
    "    end\n",
    "    un::Array{Float64,1} = xn-res[1:end-2]\n",
    "    xn = QR(x0,xn,xn - res[end-1]/(un'*un)*un)\n",
    "    return xn, res[end]/length(robustModel.I0)\n",
    "end"
   ]
  },
  {
   "cell_type": "code",
   "execution_count": null,
   "metadata": {
    "collapsed": true
   },
   "outputs": [],
   "source": [
    "using BenchmarkTools"
   ]
  },
  {
   "cell_type": "code",
   "execution_count": null,
   "metadata": {
    "collapsed": true
   },
   "outputs": [],
   "source": [
    "# push!(LOAD_PATH, \".\")\n",
    "# using RobustOptimization\n",
    "# ambiguity = \"wasserstein\"\n",
    "\n",
    "# N = 100\n",
    "# ϵ = 0.02\n",
    "\n",
    "# a = 1*rand()-0.5\n",
    "# b = 1*rand()-0.5\n",
    "# w = 2*rand(N)-1\n",
    "# X = collect(linspace(0,10,N))\n",
    "# Y = a+b*X+w;\n",
    "# Z = SharedArray{Float64}(N, 3)\n",
    "# Z = vcat(hcat(ones(length(X)),X,Y));\n",
    "\n",
    "# if ambiguity == \"KLdivergence\"\n",
    "#     sample = 4\n",
    "# else\n",
    "#     sample = 4\n",
    "# end \n",
    "\n",
    "# robustModel = RobustModel(N, 2, ϵ, ambiguity, LinearRegression())\n",
    "# α = 1/norm(robustModel.descent_direction)\n",
    "# # α = 0.005\n",
    "# projParams = ProjParams(Int(1e6), 1e-5, sample, para_proj=Sequential(), para_inter=Sequential())\n",
    "# optParams = OptParams(Int(3000), 1e-6, α, verbosity=10);\n",
    "    \n",
    "\n",
    "# x0 = rand(size(robustModel.descent_direction));"
   ]
  },
  {
   "cell_type": "code",
   "execution_count": null,
   "metadata": {
    "collapsed": true,
    "scrolled": true
   },
   "outputs": [],
   "source": [
    "# x0 = initialize(Z, robustModel, robustModel.name)\n",
    "x0 = rand(size(robustModel.descent_direction))\n",
    "xalg, yalg, dm2, mem, mini = run_algo(x0, Z, robustModel, optParams, projParams);"
   ]
  },
  {
   "cell_type": "code",
   "execution_count": null,
   "metadata": {
    "collapsed": true,
    "scrolled": true
   },
   "outputs": [],
   "source": [
    "using PyPlot\n",
    "plot(dm2)"
   ]
  },
  {
   "cell_type": "code",
   "execution_count": null,
   "metadata": {
    "collapsed": true
   },
   "outputs": [],
   "source": [
    "using BenchmarkTools\n",
    "toto = 1000"
   ]
  },
  {
   "cell_type": "code",
   "execution_count": null,
   "metadata": {
    "collapsed": true
   },
   "outputs": [],
   "source": [
    "srand(10)\n",
    "projParams = ProjParams(Int(1), 1e-5, toto, para_proj=Parallel(), para_inter=Parallel())\n",
    "@time algo_proj(x0,Z,robustModel,projParams)\n",
    "srand(10)\n",
    "projParams = ProjParams(Int(1), 1e-5, toto, para_proj=Parallel(), para_inter=Sequential())\n",
    "@time algo_proj(x0,Z,robustModel,projParams)\n",
    "srand(10)\n",
    "projParams = ProjParams(Int(1), 1e-5, toto, para_proj=Sequential(), para_inter=Parallel())\n",
    "@time algo_proj(x0,Z,robustModel,projParams)\n",
    "srand(10)\n",
    "projParams = ProjParams(Int(1), 1e-5, toto, para_proj=Sequential(), para_inter=Sequential())\n",
    "@time algo_proj(x0,Z,robustModel,projParams)"
   ]
  },
  {
   "cell_type": "code",
   "execution_count": null,
   "metadata": {
    "collapsed": true
   },
   "outputs": [],
   "source": [
    "srand(10)\n",
    "@time proj_In(x0,Z,robustModel,collect(1:toto),ones(toto)/length(toto),Sequential())\n",
    "srand(10)\n",
    "@time proj_In(x0,Z,robustModel,collect(1:toto),ones(toto)/length(toto),Parallel())"
   ]
  },
  {
   "cell_type": "code",
   "execution_count": 14,
   "metadata": {},
   "outputs": [
    {
     "data": {
      "text/plain": [
       "proj_In (generic function with 2 methods)"
      ]
     },
     "execution_count": 14,
     "metadata": {},
     "output_type": "execute_result"
    }
   ],
   "source": [
    "function proj_In(xn::Array{Float64,1},\n",
    "                  data::Array{Float64,2},\n",
    "                  robustModel::RobustModel,\n",
    "                  I::Array{Int64,1},\n",
    "                  ω::Array{Float64,1},\n",
    "                  para::Sequential)\n",
    "\n",
    "    n = length(I)\n",
    "    pin::Array{Float64,1} = zeros(length(xn))\n",
    "    sum_op = zeros(length(xn))\n",
    "    Ln = 0\n",
    "    for k in 1:n\n",
    "        i = I[k]\n",
    "        fname = typeof_constraint(i, robustModel)\n",
    "        subg = subgradient(xn, data, robustModel.regressionModel, i, fname)\n",
    "        pin = proj_pi(x->fconstraint(x, data, robustModel.regressionModel, i, fname), subg, xn, i, data, robustModel.regressionModel)\n",
    "        sum_op = sum_op + ω[k]*pin\n",
    "        Ln = Ln + ω[k]*((pin-xn)'*(pin-xn))\n",
    "    end\n",
    "    un = xn-sum_op\n",
    "    Ln = Ln/(un'*un)\n",
    "    return un, Ln\n",
    "end\n",
    "\n",
    "\n",
    "# auxilaray function to speed uo proj parallel\n",
    "@everywhere function auxf(i::Int,\n",
    "                xn::Array{Float64,1},\n",
    "                data::Array{Float64,2},\n",
    "                robustModel::RobustModel,\n",
    "                ω::Float64)\n",
    "\n",
    "    name = typeof_constraint(i, robustModel)\n",
    "    subg = subgradient(xn, data, robustModel.regressionModel, i, name)\n",
    "    pin::Array{Float64,1} = proj_pi(x->fconstraint(x, data, robustModel.regressionModel, i, name), subg, xn, i, data, robustModel.regressionModel)\n",
    "    aux::Array{Float64,1} =  ω*vcat(pin, dot((pin-xn),(pin-xn)))\n",
    "\n",
    "    return aux\n",
    "end\n",
    "\n",
    "function proj_In(xn::Array{Float64,1},\n",
    "                  data::Array{Float64,2},\n",
    "                  robustModel::RobustModel,\n",
    "                  I::Array{Int64,1},\n",
    "                  ω::Array{Float64,1},\n",
    "                  para::Parallel)\n",
    "\n",
    "    n::Int = length(I)\n",
    "    ul::Array{Float64,1} = @parallel (+) for k in 1:n\n",
    "        auxf(I[k], xn, data, robustModel, ω[k])\n",
    "    end\n",
    "    un::Array{Float64,1} = xn - ul[1:end-1]\n",
    "    Ln::Float64 = ul[end]\n",
    "    Ln = Ln/dot(un, un)\n",
    "    return un, Ln\n",
    "end"
   ]
  },
  {
   "cell_type": "code",
   "execution_count": null,
   "metadata": {
    "collapsed": true
   },
   "outputs": [],
   "source": []
  },
  {
   "cell_type": "code",
   "execution_count": null,
   "metadata": {
    "collapsed": true
   },
   "outputs": [],
   "source": [
    "@btime x_in_inter(x0,Z,robustModel,collect(1:100),Sequential())"
   ]
  },
  {
   "cell_type": "code",
   "execution_count": null,
   "metadata": {
    "collapsed": true
   },
   "outputs": [],
   "source": [
    "@btime x_in_inter(x0,Z,robustModel,collect(1:100),Parallel())"
   ]
  },
  {
   "cell_type": "code",
   "execution_count": null,
   "metadata": {
    "collapsed": true
   },
   "outputs": [],
   "source": [
    "xrobust1 = getsolution(mem, ambiguity, 2)\n",
    "xrobust2 = getsolution(xalg, ambiguity, 2)"
   ]
  },
  {
   "cell_type": "code",
   "execution_count": null,
   "metadata": {
    "collapsed": true
   },
   "outputs": [],
   "source": [
    "using Ipopt, PyPlot"
   ]
  },
  {
   "cell_type": "code",
   "execution_count": null,
   "metadata": {
    "collapsed": true
   },
   "outputs": [],
   "source": [
    "if ambiguity == \"KLdivergence\"\n",
    "    @time theDRO = KL_opt(Z, ϵ, IpoptSolver(print_level = 2), robustModel.regressionModel)\n",
    "else ambiguity == \"wasserstein\"\n",
    "    @time theDRO = DRO_opt(Z, ϵ, IpoptSolver(print_level = 2), robustModel.regressionModel)\n",
    "end \n",
    "println(\"DROopt done\")\n",
    "thebis = normal_opt(Z, IpoptSolver(print_level = 2), LinearRegression())\n",
    "println(\"MSE done\")\n",
    "X = Z[:,end-1]\n",
    "Y = Z[:,end]\n",
    "plot(X, Y, \"o\")\n",
    "plot(X, theDRO[1]+theDRO[2]*X, \"orange\")\n",
    "plot(X, xrobust1[1]+xrobust1[2]*X, \"red\")\n",
    "plot(X, xrobust2[1]+xrobust2[2]*X, \"blue\")"
   ]
  },
  {
   "cell_type": "code",
   "execution_count": null,
   "metadata": {
    "collapsed": true
   },
   "outputs": [],
   "source": [
    "plot(dm, color = \"black\")"
   ]
  },
  {
   "cell_type": "code",
   "execution_count": null,
   "metadata": {
    "collapsed": true
   },
   "outputs": [],
   "source": [
    "seed = rand(1:100)"
   ]
  },
  {
   "cell_type": "code",
   "execution_count": null,
   "metadata": {
    "collapsed": true
   },
   "outputs": [],
   "source": [
    "srand(seed)\n",
    "x1 = initialize(Z, robustModel, robustModel.ambiguitySet)\n",
    "xalg, yalg, dm1, mem, mini = run_algo(x1, Z, robustModel, optParams, projParams)\n",
    "srand(seed)\n",
    "x2 = init_proj(Z, robustModel, projParams)\n",
    "xalg, yalg, dm2, mem, mini = run_algo(x2, Z, robustModel, optParams, projParams)"
   ]
  },
  {
   "cell_type": "code",
   "execution_count": null,
   "metadata": {
    "collapsed": true,
    "scrolled": true
   },
   "outputs": [],
   "source": [
    "plot(dm1, color = \"blue\")\n",
    "plot(dm2, color = \"red\")"
   ]
  },
  {
   "cell_type": "code",
   "execution_count": null,
   "metadata": {
    "collapsed": true
   },
   "outputs": [],
   "source": [
    "using BenchmarkTools"
   ]
  },
  {
   "cell_type": "code",
   "execution_count": null,
   "metadata": {
    "collapsed": true
   },
   "outputs": [],
   "source": [
    "sample = 80\n",
    "ambiguity = \"wasserstein\"\n",
    "robustModel = RobustModel(10, 2, 0.02, ambiguity, LinearRegression())\n",
    "projParams = ProjParams(Int(1e6), 1e-5, sample, para_proj=Parallel(), para_inter=Parallel())"
   ]
  },
  {
   "cell_type": "code",
   "execution_count": null,
   "metadata": {
    "collapsed": true
   },
   "outputs": [],
   "source": [
    "srand(2)\n",
    "@time algo_proj(x0, Z, robustModel, projParams)"
   ]
  },
  {
   "cell_type": "code",
   "execution_count": null,
   "metadata": {
    "collapsed": true
   },
   "outputs": [],
   "source": [
    "srand(2)\n",
    "@time algo_proj_bis(x0, Z, robustModel, projParams)"
   ]
  },
  {
   "cell_type": "code",
   "execution_count": null,
   "metadata": {
    "collapsed": true
   },
   "outputs": [],
   "source": [
    "projParams = ProjParams(Int(1e6), 1e-5, sample, para_proj=Sequential(), para_inter=Sequential())\n",
    "srand(2)\n",
    "@time algo_proj(x0, Z, robustModel, projParams)"
   ]
  },
  {
   "cell_type": "code",
   "execution_count": null,
   "metadata": {
    "collapsed": true
   },
   "outputs": [],
   "source": [
    "# x0 = initialize(Z, robustModel.regressionModel, robustModel.ambiguitySet)\n",
    "# # ones(size(robustModel.descent_direction))\n",
    "# Profile.clear()\n",
    "# @profile run_algo(x0, Z, robustModel, optParams, projParams)"
   ]
  },
  {
   "cell_type": "code",
   "execution_count": null,
   "metadata": {
    "collapsed": true
   },
   "outputs": [],
   "source": [
    "# ProfileView.view()"
   ]
  },
  {
   "cell_type": "code",
   "execution_count": null,
   "metadata": {
    "collapsed": true
   },
   "outputs": [],
   "source": [
    "# lintfile(\"RobustOptimization.jl\")"
   ]
  },
  {
   "cell_type": "code",
   "execution_count": null,
   "metadata": {
    "collapsed": true
   },
   "outputs": [],
   "source": [
    "srand(seed)\n",
    "x2 = init_proj(Z, robustModel, projParams);\n",
    "Profile.clear()\n",
    "@profile run_algo(x2, Z, robustModel, optParams, projParams);\n",
    "ProfileView.view()"
   ]
  },
  {
   "cell_type": "code",
   "execution_count": 10,
   "metadata": {
    "collapsed": true
   },
   "outputs": [],
   "source": [
    "@everywhere function auxf(k::Int, \n",
    "                            i::Int, \n",
    "                            xn::Array{Float64,1}, \n",
    "                            data::Array{Float64,2}, \n",
    "                            robustModel::RobustModel, \n",
    "                            ω::Float64)\n",
    "    subg = subgradient(xn, data, robustModel.regressionModel, i, robustModel.fname(i))\n",
    "    pin::Array{Float64,1} = proj_pi(x->fconstraint(x, data, robustModel.regressionModel, i, robustModel.fname(i)), subg, xn, i, data, robustModel.regressionModel)\n",
    "    aux::Array{Float64,1} =  ω*vcat(pin, dot((pin-xn),(pin-xn)))\n",
    "end"
   ]
  },
  {
   "cell_type": "code",
   "execution_count": 11,
   "metadata": {
    "collapsed": true
   },
   "outputs": [],
   "source": [
    "@everywhere function proj_In_ter(xn::Array{Float64,1},\n",
    "                  data::Array{Float64,2},\n",
    "                  robustModel::RobustModel,\n",
    "                  I::Array{Int64,1},\n",
    "                  ω::Array{Float64,1})\n",
    "\n",
    "    n::Int = length(I)\n",
    "    ul::Array{Float64,1} = @parallel (+) for k in 1:n\n",
    "        auxf(k, I[k], xn, data, robustModel, ω[k])::Array{Float64,1}\n",
    "    end\n",
    "    un::Array{Float64,1} = xn - ul[1:end-1]\n",
    "    Ln::Float64 = ul[end]\n",
    "    Ln = Ln/dot(un, un)\n",
    "    return un, Ln\n",
    "end"
   ]
  },
  {
   "cell_type": "code",
   "execution_count": 12,
   "metadata": {},
   "outputs": [
    {
     "data": {
      "text/plain": [
       "proj_In_bis (generic function with 1 method)"
      ]
     },
     "execution_count": 12,
     "metadata": {},
     "output_type": "execute_result"
    }
   ],
   "source": [
    "function proj_In_bis(xn::Array{Float64,1},\n",
    "                  data::Array{Float64,2},\n",
    "                  robustModel::RobustModel,\n",
    "                  I::Array{Int64,1},\n",
    "                  ω::Array{Float64,1})\n",
    "\n",
    "    n = length(I)\n",
    "    pin::Array{Float64,1} = zeros(length(xn))\n",
    "    sum_op = zeros(length(xn))\n",
    "    Ln = 0\n",
    "    for k in 1:n\n",
    "        i = I[k]\n",
    "        subg = subgradient(xn, data, robustModel.regressionModel, i, robustModel.fname(i))\n",
    "        pin = proj_pi(x->fconstraint(x, data, robustModel.regressionModel, i, robustModel.fname(i)), subg, xn, i, data, robustModel.regressionModel)\n",
    "        sum_op = sum_op + ω[k]*pin\n",
    "        Ln = Ln + ω[k]*dot((pin-xn),(pin-xn))\n",
    "    end\n",
    "    un = xn-sum_op\n",
    "    Ln = Ln/dot(un, un)\n",
    "    return un, Ln\n",
    "end"
   ]
  },
  {
   "cell_type": "code",
   "execution_count": null,
   "metadata": {
    "collapsed": true
   },
   "outputs": [],
   "source": [
    "I = collect(1:1001)\n",
    "@btime L, u = proj_In_ter(x0, Z, robustModel, I, ones(length(I))/(length(I)))"
   ]
  },
  {
   "cell_type": "code",
   "execution_count": null,
   "metadata": {
    "collapsed": true
   },
   "outputs": [],
   "source": [
    "@btime Lb, ub = proj_In_bis(x0, Z, robustModel, I, ones(length(I))/(length(I)))"
   ]
  },
  {
   "cell_type": "code",
   "execution_count": null,
   "metadata": {
    "collapsed": true,
    "scrolled": true
   },
   "outputs": [],
   "source": [
    "Profile.clear()\n",
    "@profile proj_In_ter(x0, Z, robustModel, I, ones(length(I))/(length(I)))\n",
    "ProfileView.view()"
   ]
  },
  {
   "cell_type": "code",
   "execution_count": null,
   "metadata": {
    "collapsed": true
   },
   "outputs": [],
   "source": [
    "L - Lb"
   ]
  },
  {
   "cell_type": "code",
   "execution_count": null,
   "metadata": {
    "collapsed": true
   },
   "outputs": [],
   "source": [
    "u-ub"
   ]
  },
  {
   "cell_type": "code",
   "execution_count": null,
   "metadata": {
    "collapsed": true
   },
   "outputs": [],
   "source": [
    "@everywhere function x_in_inter(x, data, robustModel, I)\n",
    "    aux = @parallel (max) for i in 1:length(I)\n",
    "        max(0,fconstraint(x, data, robustModel.regressionModel, i, robustModel.fname(i)))\n",
    "    end\n",
    "#     aux = max(aux, 0)\n",
    "    isnan(aux) && (aux = 1.0)\n",
    "    return aux\n",
    "end\n",
    "\n",
    "function x_in_inter_bis(x::Array{Float64,1},\n",
    "                     data::Array{Float64,2},\n",
    "                     robustModel::RobustModel,\n",
    "                     I::Array{Int64,1})\n",
    "\n",
    "    aux::Float64 = 0.0\n",
    "    for i in 1:length(I)\n",
    "        aux = max(aux,fconstraint(x, data, robustModel.regressionModel, i, robustModel.fname(i)))\n",
    "    end\n",
    "    isnan(aux) && (aux = 1.0)\n",
    "    return aux\n",
    "end"
   ]
  },
  {
   "cell_type": "code",
   "execution_count": null,
   "metadata": {
    "collapsed": true
   },
   "outputs": [],
   "source": [
    "I = collect(1:10001);"
   ]
  },
  {
   "cell_type": "code",
   "execution_count": null,
   "metadata": {
    "collapsed": true
   },
   "outputs": [],
   "source": [
    "using BenchmarkTools"
   ]
  },
  {
   "cell_type": "code",
   "execution_count": null,
   "metadata": {
    "collapsed": true
   },
   "outputs": [],
   "source": [
    "@btime x_in_inter(x0, Z, robustModel, I)"
   ]
  },
  {
   "cell_type": "code",
   "execution_count": null,
   "metadata": {
    "collapsed": true
   },
   "outputs": [],
   "source": [
    "@btime x_in_inter_bis(x0, Z, robustModel, I)"
   ]
  },
  {
   "cell_type": "code",
   "execution_count": 13,
   "metadata": {
    "collapsed": true
   },
   "outputs": [],
   "source": [
    "@everywhere function algo_proj_ter(x0::Array{Float64,1},\n",
    "                    data::Array{Float64,2},\n",
    "                    robustModel::RobustModel,\n",
    "                    projParams::ProjParams)\n",
    "\n",
    "    dist_mem::Float64 = projParams.precision+1\n",
    "    xn::Array{Float64,1} = copy(x0)\n",
    "    iter = 0\n",
    "    while (iter < Int(round(length(robustModel.I0)/projParams.sample))+1) || ((dist_mem > projParams.precision) && (iter < projParams.ITER_MAX))\n",
    "        # println(\"iter = \", iter, \" dm = \", dist_mem)\n",
    "        iter = iter +1\n",
    "        I = StatsBase.sample(robustModel.I0, projParams.sample, replace=false, ordered=true)\n",
    "        push!(I, length(robustModel.I0)+1)\n",
    "        ω = ones(length(I))/(length(I))\n",
    "        n = length(I)\n",
    "        # Ln::Float64 = 0\n",
    "        # aux::Float64 = 0\n",
    "        res = @parallel (+) for k in 1:n\n",
    "            i = I[k]\n",
    "            fname = robustModel.fname(i)\n",
    "            subg = subgradient(xn, data, robustModel.regressionModel, i, fname)\n",
    "            pin = proj_pi(x->fconstraint(x, data, robustModel.regressionModel, i, fname), subg, xn, i, data, robustModel.regressionModel)\n",
    "            aux = fconstraint(xn, data, robustModel.regressionModel, i, robustModel.fname(i))\n",
    "            vcat(ω[k]*pin, ω[k]*dot((pin-xn),(pin-xn)), aux)\n",
    "        end\n",
    "        print(\"res = \", res)\n",
    "        un = res[1:end-2]\n",
    "        Ln = res[end-1]\n",
    "        dist_mem = res[end]\n",
    "        un = xn-un\n",
    "        Ln = Ln/(un'*un)\n",
    "        if (dist_mem <= 0.0) || (dot(un,un) == 0)\n",
    "            Ln = 1\n",
    "            # dist_mem = (xn1-xn)'*(xn1-xn)\n",
    "            I = StatsBase.sample(robustModel.I0, projParams.sample, replace=false, ordered=true)\n",
    "            dist_mem = x_in_inter(xn, data, robustModel, I, projParams.para_inter)\n",
    "        end\n",
    "        zn = xn - Ln*un\n",
    "        xn = QR(x0,xn,zn)\n",
    "    end\n",
    "    return xn, dist_mem, iter\n",
    "end"
   ]
  },
  {
   "cell_type": "code",
   "execution_count": null,
   "metadata": {
    "collapsed": true
   },
   "outputs": [],
   "source": [
    "algo_proj_ter(x0, Z, robustModel, projParams)"
   ]
  },
  {
   "cell_type": "code",
   "execution_count": null,
   "metadata": {
    "collapsed": true
   },
   "outputs": [],
   "source": []
  }
 ],
 "metadata": {
  "kernelspec": {
   "display_name": "Julia 0.6.4",
   "language": "julia",
   "name": "julia-0.6"
  },
  "language_info": {
   "file_extension": ".jl",
   "mimetype": "application/julia",
   "name": "julia",
   "version": "0.6.4"
  },
  "latex_envs": {
   "LaTeX_envs_menu_present": true,
   "autoclose": false,
   "autocomplete": false,
   "bibliofile": "biblio.bib",
   "cite_by": "apalike",
   "current_citInitial": 1,
   "eqLabelWithNumbers": true,
   "eqNumInitial": 1,
   "hotkeys": {
    "equation": "Ctrl-E",
    "itemize": "Ctrl-I"
   },
   "labels_anchors": false,
   "latex_user_defs": false,
   "report_style_numbering": false,
   "user_envs_cfg": true
  },
  "toc": {
   "base_numbering": 1,
   "nav_menu": {},
   "number_sections": true,
   "sideBar": true,
   "skip_h1_title": true,
   "title_cell": "Table of Contents",
   "title_sidebar": "Contents",
   "toc_cell": true,
   "toc_position": {},
   "toc_section_display": "block",
   "toc_window_display": false
  }
 },
 "nbformat": 4,
 "nbformat_minor": 2
}
