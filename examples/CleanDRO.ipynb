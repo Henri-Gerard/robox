{
 "cells": [
  {
   "cell_type": "markdown",
   "metadata": {
    "toc": true
   },
   "source": [
    "<h1>Table of Contents<span class=\"tocSkip\"></span></h1>\n",
    "<div class=\"toc\"><ul class=\"toc-item\"></ul></div>"
   ]
  },
  {
   "cell_type": "code",
   "execution_count": 1,
   "metadata": {},
   "outputs": [
    {
     "ename": "LoadError",
     "evalue": "\u001b[91mArgumentError: Module Gallium not found in current path.\nRun `Pkg.add(\"Gallium\")` to install the Gallium package.\u001b[39m",
     "output_type": "error",
     "traceback": [
      "\u001b[91mArgumentError: Module Gallium not found in current path.\nRun `Pkg.add(\"Gallium\")` to install the Gallium package.\u001b[39m",
      "",
      "Stacktrace:",
      " [1] \u001b[1m_require\u001b[22m\u001b[22m\u001b[1m(\u001b[22m\u001b[22m::Symbol\u001b[1m)\u001b[22m\u001b[22m at \u001b[1m./loading.jl:435\u001b[22m\u001b[22m",
      " [2] \u001b[1mrequire\u001b[22m\u001b[22m\u001b[1m(\u001b[22m\u001b[22m::Symbol\u001b[1m)\u001b[22m\u001b[22m at \u001b[1m./loading.jl:405\u001b[22m\u001b[22m",
      " [3] \u001b[1minclude_string\u001b[22m\u001b[22m\u001b[1m(\u001b[22m\u001b[22m::String, ::String\u001b[1m)\u001b[22m\u001b[22m at \u001b[1m./loading.jl:522\u001b[22m\u001b[22m",
      " [4] \u001b[1mexecute_request\u001b[22m\u001b[22m\u001b[1m(\u001b[22m\u001b[22m::ZMQ.Socket, ::IJulia.Msg\u001b[1m)\u001b[22m\u001b[22m at \u001b[1m/home/henri/.julia/v0.6/IJulia/src/execute_request.jl:193\u001b[22m\u001b[22m",
      " [5] \u001b[1m(::Compat.#inner#6{Array{Any,1},IJulia.#execute_request,Tuple{ZMQ.Socket,IJulia.Msg}})\u001b[22m\u001b[22m\u001b[1m(\u001b[22m\u001b[22m\u001b[1m)\u001b[22m\u001b[22m at \u001b[1m/home/henri/.julia/v0.6/Compat/src/Compat.jl:189\u001b[22m\u001b[22m",
      " [6] \u001b[1meventloop\u001b[22m\u001b[22m\u001b[1m(\u001b[22m\u001b[22m::ZMQ.Socket\u001b[1m)\u001b[22m\u001b[22m at \u001b[1m/home/henri/.julia/v0.6/IJulia/src/eventloop.jl:8\u001b[22m\u001b[22m",
      " [7] \u001b[1m(::IJulia.##13#16)\u001b[22m\u001b[22m\u001b[1m(\u001b[22m\u001b[22m\u001b[1m)\u001b[22m\u001b[22m at \u001b[1m./task.jl:335\u001b[22m\u001b[22m"
     ]
    }
   ],
   "source": [
    "using PyPlot\n",
    "using JuMP\n",
    "using Ipopt\n",
    "using Gallium\n",
    "\n",
    "include(\"projection.jl\")\n",
    "include(\"ipsolve.jl\")\n",
    "include(\"function.jl\")"
   ]
  },
  {
   "cell_type": "code",
   "execution_count": 2,
   "metadata": {},
   "outputs": [],
   "source": [
    "srand(3)\n",
    "\n",
    "N = 20\n",
    "ϵ = 0.0\n",
    "\n",
    "# a = 0.0\n",
    "# b = 0.5\n",
    "a = 1*rand()-0.5\n",
    "b = 1*rand()-0.5\n",
    "w = 2*rand(N)-1\n",
    "X = collect(linspace(0,10,N))\n",
    "Y = a+b*X+w;\n",
    "\n",
    "Z = vcat(hcat(ones(length(X)),X,Y),zeros(3)');\n",
    "\n",
    "ITER_MAX = 100000\n",
    "precision = 0.00001\n",
    "# const seed = 30\n",
    "itmax = 10000\n",
    "α = 0.007\n",
    "stability = 0.0000001\n",
    "\n",
    "lt = size(Z)[2]-1\n",
    "d1 = [ϵ; zeros(1:lt); ones(N)/N]\n",
    "\n",
    "# x0 = ones(size(d1))\n",
    "\n",
    "I0= collect(1:N^2+1)\n",
    "# fname_tabu = vcat(repmat([\"DROconstraint\"],N^2),[\"posit\"]);"
   ]
  },
  {
   "cell_type": "code",
   "execution_count": 3,
   "metadata": {},
   "outputs": [
    {
     "data": {
      "text/plain": [
       "fname_tabu (generic function with 1 method)"
      ]
     },
     "execution_count": 3,
     "metadata": {},
     "output_type": "execute_result"
    }
   ],
   "source": [
    "function fname_tabu(i)\n",
    "    if i == N^2 +1 \n",
    "        return \"posit\"\n",
    "    else\n",
    "        return \"DROconstraint\"\n",
    "    end\n",
    "end"
   ]
  },
  {
   "cell_type": "code",
   "execution_count": 94,
   "metadata": {},
   "outputs": [
    {
     "name": "stdout",
     "output_type": "stream",
     "text": [
      "  0.285043 seconds (396.22 k allocations: 20.161 MiB, 1.90% gc time)\n",
      "DROopt done\n",
      "MSE done\n"
     ]
    }
   ],
   "source": [
    "@time theDRO = DRO_opt(Z, ϵ, N)\n",
    "println(\"DROopt done\")\n",
    "thebis = normal_opt(X, Y, N)\n",
    "println(\"MSE done\")"
   ]
  },
  {
   "cell_type": "code",
   "execution_count": 4,
   "metadata": {},
   "outputs": [
    {
     "ename": "LoadError",
     "evalue": "\u001b[91mUndefVarError: run_algo not defined\u001b[39m",
     "output_type": "error",
     "traceback": [
      "\u001b[91mUndefVarError: run_algo not defined\u001b[39m",
      ""
     ]
    }
   ],
   "source": [
    "x0 = rand(size(d1))\n",
    "@time xDRO = run_algo(x0, itmax, d1, fname_tabu, I0, ITER_MAX, precision, N, α, stability)\n",
    "println(\"DROlin done\")"
   ]
  },
  {
   "cell_type": "code",
   "execution_count": 98,
   "metadata": {},
   "outputs": [
    {
     "data": {
      "image/png": "[encoded data removed]",
      "text/plain": [
       "PyPlot.Figure(PyObject <matplotlib.figure.Figure object at 0x7f524df3a438>)"
      ]
     },
     "metadata": {},
     "output_type": "display_data"
    },
    {
     "data": {
      "text/plain": [
       "1-element Array{PyCall.PyObject,1}:\n",
       " PyObject <matplotlib.lines.Line2D object at 0x7f524df0f9b0>"
      ]
     },
     "execution_count": 98,
     "metadata": {},
     "output_type": "execute_result"
    }
   ],
   "source": [
    "plot(X, Y, \"o\")\n",
    "plot(X, theDRO[1]+theDRO[2]*X, \"orange\")\n",
    "plot(X, xDRO[2]+xDRO[3]*X, \"red\")\n",
    "plot(X, thebis[1]+thebis[2]*X, \"black\")\n",
    "# plot(X, a+b*X, \"green\")"
   ]
  },
  {
   "cell_type": "code",
   "execution_count": null,
   "metadata": {
    "collapsed": true
   },
   "outputs": [],
   "source": []
  }
 ],
 "metadata": {
  "kernelspec": {
   "display_name": "Julia 0.6.4",
   "language": "julia",
   "name": "julia-0.6"
  },
  "language_info": {
   "file_extension": ".jl",
   "mimetype": "application/julia",
   "name": "julia",
   "version": "0.6.4"
  },
  "latex_envs": {
   "LaTeX_envs_menu_present": true,
   "autoclose": false,
   "autocomplete": false,
   "bibliofile": "biblio.bib",
   "cite_by": "apalike",
   "current_citInitial": 1,
   "eqLabelWithNumbers": true,
   "eqNumInitial": 1,
   "hotkeys": {
    "equation": "Ctrl-E",
    "itemize": "Ctrl-I"
   },
   "labels_anchors": false,
   "latex_user_defs": false,
   "report_style_numbering": false,
   "user_envs_cfg": true
  },
  "toc": {
   "base_numbering": 1,
   "nav_menu": {},
   "number_sections": true,
   "sideBar": true,
   "skip_h1_title": true,
   "title_cell": "Table of Contents",
   "title_sidebar": "Contents",
   "toc_cell": true,
   "toc_position": {},
   "toc_section_display": "block",
   "toc_window_display": false
  }
 },
 "nbformat": 4,
 "nbformat_minor": 2
}
