{
 "cells": [
  {
   "cell_type": "markdown",
   "metadata": {
    "toc": true
   },
   "source": [
    "<h1>Table of Contents<span class=\"tocSkip\"></span></h1>\n",
    "<div class=\"toc\" style=\"margin-top: 1em;\"><ul class=\"toc-item\"></ul></div>"
   ]
  },
  {
   "cell_type": "code",
   "execution_count": null,
   "metadata": {
    "collapsed": true
   },
   "outputs": [],
   "source": [
    "# addprocs(7)"
   ]
  },
  {
   "cell_type": "code",
   "execution_count": null,
   "metadata": {
    "collapsed": true
   },
   "outputs": [],
   "source": [
    "# @everywhere push!(LOAD_PATH, \".\")\n",
    "# @everywhere using RobustOptimization, ScikitLearn\n",
    "# using PyPlot, Ipopt\n",
    "# @everywhere @sk_import model_selection: train_test_split\n",
    "# # @everywhere @sk_import metrics: mean_squared_error\n",
    "# @everywhere @sk_import metrics: r2_score\n",
    "# @everywhere nbfeatures = 13\n",
    "# solver = IpoptSolver(print_level = 2)"
   ]
  },
  {
   "cell_type": "code",
   "execution_count": 1,
   "metadata": {},
   "outputs": [
    {
     "name": "stderr",
     "output_type": "stream",
     "text": [
      "\u001b[1m\u001b[36mINFO: \u001b[39m\u001b[22m\u001b[36mRecompiling stale cache file /home/henri/.julia/lib/v0.6/RobustOptimization.ji for module RobustOptimization.\n",
      "\u001b[39m"
     ]
    },
    {
     "data": {
      "text/plain": [
       "Ipopt.IpoptSolver(Any[(:print_level, 2)])"
      ]
     },
     "execution_count": 1,
     "metadata": {},
     "output_type": "execute_result"
    }
   ],
   "source": [
    "push!(LOAD_PATH, \".\")\n",
    "using RobustOptimization \n",
    "using ScikitLearn\n",
    "using PyPlot, Ipopt\n",
    " @sk_import model_selection: train_test_split\n",
    "# @everywhere @sk_import metrics: mean_squared_error\n",
    " @sk_import metrics: r2_score\n",
    "nbfeatures = 13\n",
    "solver = IpoptSolver(print_level = 2)"
   ]
  },
  {
   "cell_type": "code",
   "execution_count": null,
   "metadata": {
    "collapsed": true
   },
   "outputs": [],
   "source": [
    "# @everywhere path_train = \"datasets/housing_scale\"\n",
    "# solver = IpoptSolver(print_level = 2)\n",
    "# @everywhere  data = read_data_libsvm(path_train, nbfeatures)\n",
    "# @everywhere  xtr, xte, ytr, yte = train_test_split(data[:,1:end-1], data[:,end], train_size = 0.8)  \n",
    "# # @everywhere  df_train = hcat(xtr, ytr)\n",
    "# @everywhere  df_train = data\n",
    "# @everywhere  df_test = hcat(xte, yte);"
   ]
  },
  {
   "cell_type": "code",
   "execution_count": 2,
   "metadata": {
    "collapsed": true
   },
   "outputs": [],
   "source": [
    "@everywhere df_train, df_test = create_data(\"housing_scale\", nbfeatures, 0.1, train_test_split)\n",
    "# df_train, df_test = create_data(\"housing_scale\", nbfeatures, 0.7, train_test_split)"
   ]
  },
  {
   "cell_type": "code",
   "execution_count": 3,
   "metadata": {
    "collapsed": true
   },
   "outputs": [],
   "source": [
    "# ambiguity = \"KLdivergence\"\n",
    "N = size(df_train)[1]\n",
    "ϵ = 0.1\n",
    "verbosity = 10\n",
    "itmax = 1000\n",
    "sample = 10\n",
    "\n",
    "ambiguity = \"wasserstein\"\n",
    "\n",
    "robustModel = RobustModel(N, nbfeatures, ϵ, ambiguity, LinearRegression())\n",
    "# α = 1/norm(robustModel.descent_direction)\n",
    "α = 1.0\n",
    "projParams = ProjParams(Int(1e6), 1e-5, sample, para_proj=Sequential(), para_inter=Sequential())\n",
    "optParams = OptParams(itmax, 1e-7, α, verbosity = verbosity);"
   ]
  },
  {
   "cell_type": "code",
   "execution_count": 4,
   "metadata": {
    "collapsed": true
   },
   "outputs": [],
   "source": [
    "x1 = init_proj(df_train, robustModel, projParams);"
   ]
  },
  {
   "cell_type": "code",
   "execution_count": 16,
   "metadata": {},
   "outputs": [
    {
     "name": "stdout",
     "output_type": "stream",
     "text": [
      "100 0.0 200 0.0 300 0.0 400 0.0 500 0.0 600 0.0 700 0.0 800 0.0 900 0.0 1000 0.0 1100 0.0 1200 0.0 1300 0.0 1400 0.0 1500 0.0 1600 0.0 1700 0.0 1800 0.0 1900 0.0 2000 0.0 2100 0.0 2200 0.0 2300 0.0 2400 0.0 2500 0.0 2600 0.0 2700 0.0 2800 0.0 2900 0.0 3000 0.0 3100 0.0 3200 0.0 3300 0.0 3400 0.0 3500 0.0 3600 0.0 3700 0.0 3800 0.0 3900 0.0 4000 0.0 4100 0.0 4200 0.0 4300 0.0 4400 0.0 4500 0.0 4600 0.0 4700 0.0 4800 0.0 4900 0.0 5000 0.0 5100 0.0 5200 0.0 5300 0.0 5400 0.0 5500 0.0 5600 0.0 5700 0.0 5800 0.0 5900 0.0 6000 0.0 6100 0.0 6200 0.0 6300 0.0 6400 0.0 6500 0.0 6600 0.0 6700 0.0 6800 0.0 6900 0.0 7000 0.0 7100 0.0 7200 0.0 7300 0.0 7400 0.0 7500 0.0 7600 0.0 7700 0.0 7800 0.0 7900 0.0 8000 0.0 8100 0.0 8200 0.0 8300 0.0 8400 0.0 8500 0.0 8600 0.0 8700 0.0 8800 0.0 8900 0.0 9000 0.0 9100 0.0 9200 0.0 9300 0.0 9400 0.0 9500 0.0 9600 0.0 9700 0.0 9800 0.0 9900 0.0 10000 0.0 10100 0.0 10200 0.0 10300 0.0 10400 0.0 10500 0.0 10600 0.0 10700 0.0 10800 0.0 10900 0.0 11000 0.0 11100 0.0 11200 0.0 11300 0.0 11400 0.0 11500 0.0 11600 0.0 11700 0.0 11800 0.0 11900 0.0 12000 0.0 12100 0.0 12200 0.0 12300 0.0 12400 0.0 12500 0.0 12600 0.0 12700 0.0 12800 0.0 12900 0.0 13000 0.0 13100 0.0 13200 0.0 13300 0.0 13400 0.0 13500 0.0 13600 0.0 13700 0.0 13800 0.0 13900 0.0 14000 0.0 14100 0.0 14200 0.0 14300 0.0 14400 0.0 14500 0.0 14600 0.0 14700 0.0 14800 0.0 14900 0.0 15000 0.0 15100 0.0 15200 0.0 15300 0.0 15400 0.0 15500 0.0 15600 0.0 15700 0.0 15800 0.0 15900 0.0 16000 0.0 16100 0.0 16200 0.0 16300 0.0 16400 0.0 16500 0.0 16600 0.0 16700 0.0 16800 0.0 16900 0.0 17000 0.0 17100 0.0 17200 0.0 17300 0.0 17400 0.0 17500 0.0 17600 0.0 17700 0.0 17800 0.0 17900 0.0 18000 0.0 18100 0.0 18200 0.0 18300 0.0 18400 0.0 18500 0.0 18600 0.0 18700 0.0 18800 0.0 18900 0.0 19000 0.0 19100 0.0 19200 0.0 19300 0.0 19400 0.0 19500 0.0 19600 0.0 19700 0.0 19800 0.0 19900 0.0 20000 0.0 20100 0.0 20200 0.0 20300 0.0 20400 0.0 20500 0.0 20600 0.0 20700 0.0 20800 0.0 20900 0.0 21000 0.0 21100 0.0 21200 0.0 21300 0.0 21400 0.0 21500 0.0 21600 0.0 21700 0.0 21800 0.0 21900 0.0 22000 0.0 22100 0.0 22200 0.0 22300 0.0 22400 0.0 22500 0.0 22600 0.0 22700 0.0 22800 0.0 22900 0.0 23000 0.0 23100 0.0 23200 0.0 23300 0.0 23400 0.0 23500 0.0 23600 0.0 23700 0.0 23800 0.0 23900 0.0 24000 0.0 24100 0.0 24200 0.0 24300 0.0 24400 0.0 24500 0.0 24600 0.0 24700 0.0 24800 0.0 24900 0.0 25000 0.0 25100 0.0 25200 0.0 25300 0.0 25400 0.0 25500 0.0 25600 0.0 25700 0.0 25800 0.0 25900 0.0 26000 0.0 26100 0.0 26200 0.0 26300 0.0 26400 0.0 26500 0.0 26600 0.0 26700 0.0 26800 0.0 26900 0.0 27000 0.0 27100 0.0 27200 0.0 27300 0.0 27400 0.0 27500 0.0 27600 0.0 27700 0.0 27800 0.0 27900 0.0 28000 0.0 28100 0.0 28200 0.0 28300 0.0 28400 0.0 28500 0.0 28600 0.0 28700 0.0 28800 0.0 28900 0.0 29000 0.0 29100 0.0 29200 0.0 29300 0.0 29400 0.0 29500 0.0 29600 0.0 29700 0.0 29800 0.0 29900 0.0 30000 0.0 30100 0.0 30200 0.0 30300 0.0 30400 0.0 30500 0.0 30600 0.0 30700 0.0 30800 0.0 30900 0.0 31000 0.0 31100 0.0 31200 0.0 31300 0.0 31400 0.0 31500 0.0 31600 0.0 31700 0.0 31800 0.0 31900 0.0 32000 0.0 32100 0.0 32200 0.0 32300 0.0 32400 0.0 32500 0.0 32600 0.0 32700 0.0 32800 0.0 32900 0.0 33000 0.0 33100 0.0 33200 0.0 33300 0.0 33400 0.0 33500 0.0 33600 0.0 33700 0.0 "
     ]
    },
    {
     "ename": "LoadError",
     "evalue": "\u001b[91mInterruptException:\u001b[39m",
     "output_type": "error",
     "traceback": [
      "\u001b[91mInterruptException:\u001b[39m",
      "",
      "Stacktrace:",
      " [1] \u001b[1mbroadcast_t\u001b[22m\u001b[22m at \u001b[1m./broadcast.jl:266\u001b[22m\u001b[22m [inlined]",
      " [2] \u001b[1mbroadcast_c\u001b[22m\u001b[22m at \u001b[1m./broadcast.jl:314\u001b[22m\u001b[22m [inlined]",
      " [3] \u001b[1mbroadcast\u001b[22m\u001b[22m at \u001b[1m./broadcast.jl:434\u001b[22m\u001b[22m [inlined]",
      " [4] \u001b[1m-\u001b[22m\u001b[22m\u001b[1m(\u001b[22m\u001b[22m::Array{Float64,1}, ::Array{Float64,1}\u001b[1m)\u001b[22m\u001b[22m at \u001b[1m./arraymath.jl:38\u001b[22m\u001b[22m",
      " [5] \u001b[1mQR\u001b[22m\u001b[22m\u001b[1m(\u001b[22m\u001b[22m::Array{Float64,1}, ::Array{Float64,1}, ::Array{Float64,1}\u001b[1m)\u001b[22m\u001b[22m at \u001b[1m/home/henri/Dropbox/Estimators - measure of risk/pral/projection.jl:32\u001b[22m\u001b[22m",
      " [6] \u001b[1malgo_proj\u001b[22m\u001b[22m\u001b[1m(\u001b[22m\u001b[22m::Array{Float64,1}, ::Array{Float64,2}, ::RobustOptimization.RobustModel, ::RobustOptimization.ProjParams\u001b[1m)\u001b[22m\u001b[22m at \u001b[1m/home/henri/Dropbox/Estimators - measure of risk/pral/projection.jl:190\u001b[22m\u001b[22m",
      " [7] \u001b[1mrun_algo\u001b[22m\u001b[22m\u001b[1m(\u001b[22m\u001b[22m::Array{Float64,1}, ::Array{Float64,2}, ::RobustOptimization.RobustModel, ::RobustOptimization.OptParams, ::RobustOptimization.ProjParams\u001b[1m)\u001b[22m\u001b[22m at \u001b[1m/home/henri/Dropbox/Estimators - measure of risk/pral/projection.jl:302\u001b[22m\u001b[22m"
     ]
    }
   ],
   "source": [
    "@time xalg, yalg, dm, mem, mini = run_algo(x1, df_train, robustModel, optParams, projParams)"
   ]
  },
  {
   "cell_type": "code",
   "execution_count": null,
   "metadata": {
    "collapsed": true
   },
   "outputs": [],
   "source": [
    "28.401273 seconds (225.45 M allocations: 65.526 GiB, 24.38% gc time)\n"
   ]
  },
  {
   "cell_type": "code",
   "execution_count": 5,
   "metadata": {},
   "outputs": [
    {
     "name": "stdout",
     "output_type": "stream",
     "text": [
      "10 0.0 20 0.0 30 0.0 40 0.0 50 0.0 60 0.0 70 0.0 80 0.0 90 0.0 100 0.0 110 0.0 120 0.0 130 0.0 140 0.0 150 0.0 160 0.0 170 0.0 180 0.0 190 0.0 200 0.0 210 0.0 220 0.0 230 0.0 240 0.0 250 0.0 260 0.0 270 0.0 280 0.0 290 0.0 300 0.0 310 0.0 320 0.0 330 0.0 340 0.0 350 0.0 360 0.0 370 0.0 380 0.0 390 0.0 400 0.0 410 0.0 420 0.0 430 0.0 440 0.0 450 0.0 460 0.0 470 0.0 480 0.0 490 0.0 500 0.0 510 0.0 520 0.0 530 0.0 540 0.0 550 0.0 560 0.0 570 0.0 580 0.0 590 0.0 600 0.0 610 0.0 620 0.0 630 0.0 640 0.0 650 0.0 660 0.0 670 0.0 680 0.0 690 0.0 700 0.0 710 0.0 720 0.0 730 0.0 740 0.0 750 0.0 760 0.0 770 0.0 780 0.0 790 0.0 800 0.0 810 0.0 820 0.0 830 0.0 840 0.0 850 0.0 860 0.0 870 0.0 880 0.0 890 0.0 900 0.0 910 0.0 920 0.0 930 0.0 940 0.0 950 0.0 960 0.0 970 0.0 980 0.0 990 0.0 1000 0.0 1 = 0.39252455065873093\n",
      "1 = 0.5518402217864611\n"
     ]
    }
   ],
   "source": [
    "xalg, yalg, dm, mem, mini = run_algo(x1, df_train, robustModel, optParams, projParams)\n",
    "xrobust1 = getsolution(xalg, ambiguity, nbfeatures)\n",
    "xrobust2 = getsolution(mem, ambiguity, nbfeatures)\n",
    "y_pred1 = pred(df_test, xrobust1, robustModel.regressionModel)\n",
    "y_pred2 = pred(df_test, xrobust2, robustModel.regressionModel)\n",
    "y_true = df_test[:,end]\n",
    "println(\"1 = \", r2_score(y_true, y_pred1))\n",
    "println(\"1 = \", r2_score(y_true, y_pred2))"
   ]
  },
  {
   "cell_type": "code",
   "execution_count": 6,
   "metadata": {},
   "outputs": [
    {
     "name": "stdout",
     "output_type": "stream",
     "text": [
      "\n",
      "******************************************************************************\n",
      "This program contains Ipopt, a library for large-scale nonlinear optimization.\n",
      " Ipopt is released as open source code under the Eclipse Public License (EPL).\n",
      "         For more information visit http://projects.coin-or.org/Ipopt\n",
      "******************************************************************************\n",
      "\n"
     ]
    },
    {
     "data": {
      "text/plain": [
       "0.5103464737797151"
      ]
     },
     "execution_count": 6,
     "metadata": {},
     "output_type": "execute_result"
    }
   ],
   "source": [
    "xnormal = normal_opt(df_train, solver)\n",
    "y_pred = pred(df_test, xnormal, robustModel.regressionModel)\n",
    "y_true = df_test[:,end]\n",
    "r2_score(y_true, y_pred)"
   ]
  },
  {
   "cell_type": "code",
   "execution_count": 11,
   "metadata": {},
   "outputs": [
    {
     "data": {
      "text/plain": [
       "174"
      ]
     },
     "execution_count": 11,
     "metadata": {},
     "output_type": "execute_result"
    }
   ],
   "source": [
    "open(\"res_housing.txt\", \"a\") do f\n",
    "    write(f, \"$xrobust2, $r2_score \\n\")       \n",
    "end"
   ]
  },
  {
   "cell_type": "code",
   "execution_count": null,
   "metadata": {
    "collapsed": true
   },
   "outputs": [],
   "source": [
    "276.810402 seconds (4.40 G allocations: 562.013 GiB, 14.84% gc time)\n",
    "1 = 0.6022239356831659\n",
    "1 = 0.5052470447967023\n",
    "\n",
    "64.754204 seconds (48.24 M allocations: 10.718 GiB, 1.61% gc time)\n",
    "21.497482 seconds (336.63 M allocations: 62.171 GiB, 17.92% gc time)\n",
    "42.917698 seconds (293.62 M allocations: 60.172 GiB, 11.86% gc time)\n",
    "43.475758 seconds (125.18 M allocations: 19.746 GiB, 5.38% gc time)\n",
    "\n",
    "tr = 0.8\n",
    "39.224049 seconds (12.24 M allocations: 5.694 GiB, 1.69% gc time)\n",
    "36.273828 seconds (268.37 M allocations: 83.530 GiB, 25.15% gc time)\n",
    "\n",
    "tr = 1.0\n",
    "110.061204 seconds (567.27 M allocations: 165.940 GiB, 21.15% gc time)\n",
    "71.960139 seconds (445.67 M allocations: 161.626 GiB, 25.12% gc time)"
   ]
  },
  {
   "cell_type": "code",
   "execution_count": 7,
   "metadata": {},
   "outputs": [
    {
     "data": {
      "image/png": "[encoded data removed]",
      "text/plain": [
       "PyPlot.Figure(PyObject <matplotlib.figure.Figure object at 0x7f5df6539e48>)"
      ]
     },
     "metadata": {},
     "output_type": "display_data"
    },
    {
     "data": {
      "text/plain": [
       "1-element Array{PyCall.PyObject,1}:\n",
       " PyObject <matplotlib.lines.Line2D object at 0x7f5dc19eb518>"
      ]
     },
     "execution_count": 7,
     "metadata": {},
     "output_type": "execute_result"
    }
   ],
   "source": [
    "plot(dm)"
   ]
  },
  {
   "cell_type": "code",
   "execution_count": null,
   "metadata": {
    "collapsed": true
   },
   "outputs": [],
   "source": [
    "# xnormal = normal_opt(df_train, solver)\n",
    "# y_pred = pred(df_test, xnormal, robustModel.regressionModel)\n",
    "# y_true = df_test[:,end]\n",
    "# r2_score(y_true, y_pred)"
   ]
  },
  {
   "cell_type": "code",
   "execution_count": null,
   "metadata": {
    "collapsed": true,
    "scrolled": true
   },
   "outputs": [],
   "source": [
    "srand(2)\n",
    "x0 = ones(size(robustModel.descent_direction))\n",
    "@time xalg, yalg, dm, mem, mini = run_algo(x0, df_train, robustModel, optParams, projParams)\n",
    "xrobust1 = getsolution(xalg, ambiguity, nbfeatures)\n",
    "xrobust2 = getsolution(mem, ambiguity, nbfeatures)\n",
    "y_pred1 = pred(df_test, xrobust1, robustModel.regressionModel)\n",
    "y_pred2 = pred(df_test, xrobust2, robustModel.regressionModel)\n",
    "y_true = df_test[:,end]\n",
    "println(\"1 = \", r2_score(y_true, y_pred1))\n",
    "println(\"1 = \", r2_score(y_true, y_pred2))"
   ]
  },
  {
   "cell_type": "code",
   "execution_count": null,
   "metadata": {
    "collapsed": true
   },
   "outputs": [],
   "source": []
  },
  {
   "cell_type": "code",
   "execution_count": null,
   "metadata": {
    "collapsed": true
   },
   "outputs": [],
   "source": []
  },
  {
   "cell_type": "code",
   "execution_count": null,
   "metadata": {
    "collapsed": true
   },
   "outputs": [],
   "source": [
    "plot(dm)"
   ]
  },
  {
   "cell_type": "code",
   "execution_count": null,
   "metadata": {
    "collapsed": true
   },
   "outputs": [],
   "source": [
    "x_dro = DRO_opt(df_train, ϵ, solver, robustModel.regressionModel)\n",
    "y_pred = pred(df_test, x_dro, robustModel.regressionModel)\n",
    "y_true = df_test[:,end]\n",
    "r2_score(y_true, y_pred)"
   ]
  },
  {
   "cell_type": "code",
   "execution_count": null,
   "metadata": {
    "collapsed": true
   },
   "outputs": [],
   "source": [
    "x_dro = KL_opt(df_train, 0.1, solver, robustModel.regressionModel)\n",
    "y_pred = pred(df_test, x_dro, robustModel.regressionModel)\n",
    "y_true = df_test[:,end]\n",
    "r2_score(y_true, y_pred)"
   ]
  },
  {
   "cell_type": "code",
   "execution_count": null,
   "metadata": {
    "collapsed": true
   },
   "outputs": [],
   "source": [
    "aux = []\n",
    "for ϵ in 0:0.01:1\n",
    "    println(\"epsilon = \", ϵ)\n",
    "    robustModel = RobustModel(N, nbfeatures, ϵ, ambiguity, LinearRegression())\n",
    "    x_dro = DRO_opt(df_train, ϵ, solver, robustModel.regressionModel)\n",
    "    y_pred = pred(df_test, x_dro, robustModel.regressionModel)\n",
    "    y_true = df_test[:,end]\n",
    "    push!(aux, r2_score(y_true, y_pred))\n",
    "end\n",
    "println(\"min = \", minimum(aux))\n",
    "plot(aux)"
   ]
  },
  {
   "cell_type": "code",
   "execution_count": null,
   "metadata": {
    "collapsed": true,
    "scrolled": false
   },
   "outputs": [],
   "source": [
    "bux = []\n",
    "for ϵ in 0:1:100\n",
    "    println(\"epsilon = \", ϵ)\n",
    "    x_dro = DRO_opt(df_train, ϵ, solver, robustModel.regressionModel)\n",
    "    y_pred = pred(df_test, x_dro, robustModel.regressionModel)\n",
    "    y_true = df_test[:,end]\n",
    "    push!(bux, r2_score(y_true, y_pred))\n",
    "end\n",
    "println(\"min = \", minimum(bux))\n",
    "plot(bux)"
   ]
  },
  {
   "cell_type": "code",
   "execution_count": null,
   "metadata": {
    "collapsed": true
   },
   "outputs": [],
   "source": [
    "ambiguity = \"KLdivergence\""
   ]
  },
  {
   "cell_type": "code",
   "execution_count": null,
   "metadata": {
    "collapsed": true,
    "scrolled": true
   },
   "outputs": [],
   "source": [
    "cux = []\n",
    "for ϵ in 0:0.01:1\n",
    "    println(\"epsilon = \", ϵ)\n",
    "    robustModel = RobustModel(N, nbfeatures, ϵ, ambiguity, LinearRegression())\n",
    "    x_dro = KL_opt(df_train, ϵ, solver, robustModel.regressionModel)\n",
    "    y_pred = pred(df_test, x_dro, robustModel.regressionModel)\n",
    "    y_true = df_test[:,end]\n",
    "    push!(cux, r2_score(y_true, y_pred))\n",
    "end\n",
    "println(\"min = \", minimum(cux))\n"
   ]
  },
  {
   "cell_type": "code",
   "execution_count": null,
   "metadata": {
    "collapsed": true
   },
   "outputs": [],
   "source": [
    "x_dro = KL_opt(df_train, 30, solver, robustModel.regressionModel)\n",
    "y_pred = pred(df_test, x_dro, robustModel.regressionModel)\n",
    "y_true = df_test[:,end]\n",
    "r2_score(y_true, y_pred)"
   ]
  },
  {
   "cell_type": "code",
   "execution_count": null,
   "metadata": {
    "collapsed": true
   },
   "outputs": [],
   "source": [
    "cbis[4]"
   ]
  },
  {
   "cell_type": "code",
   "execution_count": null,
   "metadata": {
    "collapsed": true
   },
   "outputs": [],
   "source": [
    "dux = []\n",
    "for ϵ in 0:1:100\n",
    "    println(\"epsilon = \", ϵ)\n",
    "    x_dro = KL_opt(df_train, ϵ, solver, robustModel.regressionModel)\n",
    "    y_pred = pred(df_test, x_dro, robustModel.regressionModel)\n",
    "    y_true = df_test[:,end]\n",
    "    push!(dux, r2_score(y_true, y_pred))\n",
    "end\n",
    "println(\"min = \", minimum(dux))\n",
    "plot(dux)"
   ]
  },
  {
   "cell_type": "code",
   "execution_count": null,
   "metadata": {
    "collapsed": true
   },
   "outputs": [],
   "source": [
    "# @sk_import linear_model: LinearRegression\n",
    "# model = LinearRegression(fit_intercept=true)\n",
    "# model = fit!(LinearRegression(), df_train[:,1:end-1], df_train[:,end])\n",
    "# ypred = predict(model, df_test[:,1:end-1],)\n",
    "# y_true = df_test[:,end]\n",
    "# r2_score(y_true, y_pred)"
   ]
  },
  {
   "cell_type": "code",
   "execution_count": null,
   "metadata": {
    "collapsed": true
   },
   "outputs": [],
   "source": []
  },
  {
   "cell_type": "code",
   "execution_count": null,
   "metadata": {
    "collapsed": true
   },
   "outputs": [],
   "source": []
  },
  {
   "cell_type": "code",
   "execution_count": null,
   "metadata": {
    "collapsed": true
   },
   "outputs": [],
   "source": [
    "xnormal"
   ]
  },
  {
   "cell_type": "code",
   "execution_count": null,
   "metadata": {
    "collapsed": true
   },
   "outputs": [],
   "source": []
  }
 ],
 "metadata": {
  "kernelspec": {
   "display_name": "Julia 0.6.4",
   "language": "julia",
   "name": "julia-0.6"
  },
  "language_info": {
   "file_extension": ".jl",
   "mimetype": "application/julia",
   "name": "julia",
   "version": "0.6.4"
  },
  "latex_envs": {
   "LaTeX_envs_menu_present": true,
   "autocomplete": false,
   "bibliofile": "biblio.bib",
   "cite_by": "apalike",
   "current_citInitial": 1,
   "eqLabelWithNumbers": true,
   "eqNumInitial": 1,
   "hotkeys": {
    "equation": "Ctrl-E",
    "itemize": "Ctrl-I"
   },
   "labels_anchors": false,
   "latex_user_defs": false,
   "report_style_numbering": false,
   "user_envs_cfg": true
  },
  "toc": {
   "nav_menu": {},
   "number_sections": true,
   "sideBar": true,
   "skip_h1_title": true,
   "toc_cell": true,
   "toc_position": {},
   "toc_section_display": "block",
   "toc_window_display": false
  }
 },
 "nbformat": 4,
 "nbformat_minor": 2
}
